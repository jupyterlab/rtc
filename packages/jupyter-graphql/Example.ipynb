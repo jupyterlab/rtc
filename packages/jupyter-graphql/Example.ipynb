{
 "cells": [
  {
   "cell_type": "markdown",
   "metadata": {},
   "source": [
    "# Jupyter GraphQL Example\n",
    "\n",
    "In this notebook, we will create a new Jupyter server and interact with it through the GraphQL endpoints."
   ]
  },
  {
   "cell_type": "markdown",
   "metadata": {},
   "source": [
    "## Start server"
   ]
  },
  {
   "cell_type": "markdown",
   "metadata": {},
   "source": [
    "First, we will start up the new server and import a few helpers `q` and `s` to run GraphQL queries and subscriptions:"
   ]
  },
  {
   "cell_type": "code",
   "execution_count": 9,
   "metadata": {
    "execution": {
     "iopub.execute_input": "2020-10-12T16:43:19.086616Z",
     "iopub.status.busy": "2020-10-12T16:43:19.086429Z",
     "iopub.status.idle": "2020-10-12T16:43:19.089137Z",
     "shell.execute_reply": "2020-10-12T16:43:19.088494Z",
     "shell.execute_reply.started": "2020-10-12T16:43:19.086596Z"
    }
   },
   "outputs": [],
   "source": [
    "from jupyter_graphql.interactive import *"
   ]
  },
  {
   "cell_type": "markdown",
   "metadata": {},
   "source": [
    "## Create kernel"
   ]
  },
  {
   "cell_type": "markdown",
   "metadata": {},
   "source": [
    "Now we can make a new kernel and grab its id:"
   ]
  },
  {
   "cell_type": "code",
   "execution_count": 10,
   "metadata": {
    "execution": {
     "iopub.execute_input": "2020-10-12T16:43:20.590721Z",
     "iopub.status.busy": "2020-10-12T16:43:20.590512Z",
     "iopub.status.idle": "2020-10-12T16:43:20.612068Z",
     "shell.execute_reply": "2020-10-12T16:43:20.610928Z",
     "shell.execute_reply.started": "2020-10-12T16:43:20.590699Z"
    }
   },
   "outputs": [
    {
     "name": "stderr",
     "output_type": "stream",
     "text": [
      "Starting kernel: ['/usr/local/Caskroom/miniconda/base/envs/rtc/bin/python', '-m', 'ipykernel_launcher', '-f', '/private/var/folders/xn/05ktz3056kqd9n8frgd6236h0000gn/T/pytest-of-saul/pytest-268/test_stuff0/runtime/kernel-1fb1ceec-61fb-49bf-8e3b-9d9e61c69b1f.json']\n",
      "Connecting to: tcp://127.0.0.1:61178\n",
      "Connecting to: tcp://127.0.0.1:61175\n",
      "Kernel started: 1fb1ceec-61fb-49bf-8e3b-9d9e61c69b1f\n",
      "Kernel args: {'kernel_name': 'python3'}\n",
      "activity on 1fb1ceec-61fb-49bf-8e3b-9d9e61c69b1f: status (starting)\n",
      "Connecting to: tcp://127.0.0.1:61175\n",
      "Connecting to: tcp://127.0.0.1:61174\n",
      "activity on 1fb1ceec-61fb-49bf-8e3b-9d9e61c69b1f: status (busy)\n",
      "activity on 1fb1ceec-61fb-49bf-8e3b-9d9e61c69b1f: status (idle)\n"
     ]
    }
   ],
   "source": [
    "kernel_id = (await q(\"\"\"\n",
    "mutation {\n",
    "    startKernel(input: {}) {\n",
    "        kernel {\n",
    "            id\n",
    "        }\n",
    "    }\n",
    "}\n",
    "\"\"\"))['startKernel']['kernel']['id']"
   ]
  },
  {
   "cell_type": "markdown",
   "metadata": {},
   "source": [
    "## Get list of kernels"
   ]
  },
  {
   "cell_type": "markdown",
   "metadata": {},
   "source": [
    "If we list our kernels, we will see it:"
   ]
  },
  {
   "cell_type": "code",
   "execution_count": 3,
   "metadata": {
    "execution": {
     "iopub.execute_input": "2020-10-12T16:41:32.740718Z",
     "iopub.status.busy": "2020-10-12T16:41:32.740415Z",
     "iopub.status.idle": "2020-10-12T16:41:32.753482Z",
     "shell.execute_reply": "2020-10-12T16:41:32.752714Z",
     "shell.execute_reply.started": "2020-10-12T16:41:32.740683Z"
    }
   },
   "outputs": [
    {
     "data": {
      "text/plain": [
       "{'kernels': [{'id': 'kernel:9bcd086c-092e-460c-8766-86f0064d8bc0',\n",
       "   'executionState': 'IDLE'}]}"
      ]
     },
     "execution_count": 3,
     "metadata": {},
     "output_type": "execute_result"
    }
   ],
   "source": [
    "await q(\"\"\"\n",
    "query {\n",
    "    kernels {\n",
    "        id\n",
    "        executionState\n",
    "    }\n",
    "}\n",
    "\"\"\")"
   ]
  },
  {
   "cell_type": "markdown",
   "metadata": {},
   "source": [
    "## Get notified on execution state updates"
   ]
  },
  {
   "cell_type": "markdown",
   "metadata": {},
   "source": [
    "We can set up a subscription to get notificed whenever the state of it updates:"
   ]
  },
  {
   "cell_type": "code",
   "execution_count": 4,
   "metadata": {
    "execution": {
     "iopub.execute_input": "2020-10-12T16:41:34.081805Z",
     "iopub.status.busy": "2020-10-12T16:41:34.081579Z",
     "iopub.status.idle": "2020-10-12T16:41:34.085057Z",
     "shell.execute_reply": "2020-10-12T16:41:34.084225Z",
     "shell.execute_reply.started": "2020-10-12T16:41:34.081780Z"
    }
   },
   "outputs": [
    {
     "data": {
      "text/plain": [
       "[{'kernelExecutionStateUpdated': {'executionState': 'RESTARTING'}},\n",
       " {'kernelExecutionStateUpdated': {'executionState': 'BUSY'}},\n",
       " {'kernelExecutionStateUpdated': {'executionState': 'IDLE'}},\n",
       " {'kernelExecutionStateUpdated': {'executionState': 'BUSY'}},\n",
       " {'kernelExecutionStateUpdated': {'executionState': 'IDLE'}}]"
      ]
     },
     "metadata": {},
     "output_type": "display_data"
    }
   ],
   "source": [
    "s(\"\"\"\n",
    "subscription($id: ID!) {\n",
    "    kernelExecutionStateUpdated(id: $id) {\n",
    "        executionState\n",
    "    }\n",
    "}\n",
    "\"\"\", id=kernel_id)"
   ]
  },
  {
   "cell_type": "markdown",
   "metadata": {},
   "source": [
    "## Restart kernel"
   ]
  },
  {
   "cell_type": "markdown",
   "metadata": {},
   "source": [
    "If we restart the kernel, we can see it updating:"
   ]
  },
  {
   "cell_type": "code",
   "execution_count": 5,
   "metadata": {
    "execution": {
     "iopub.execute_input": "2020-10-12T16:41:35.536906Z",
     "iopub.status.busy": "2020-10-12T16:41:35.536680Z",
     "iopub.status.idle": "2020-10-12T16:41:35.769062Z",
     "shell.execute_reply": "2020-10-12T16:41:35.767158Z",
     "shell.execute_reply.started": "2020-10-12T16:41:35.536882Z"
    }
   },
   "outputs": [
    {
     "name": "stderr",
     "output_type": "stream",
     "text": [
      "/usr/local/Caskroom/miniconda/base/envs/rtc/lib/python3.8/site-packages/jupyter_client/manager.py:357: FutureWarning: Method cleanup(connection_file=True) is deprecated, use cleanup_resources(restart=False).\n",
      "  warnings.warn(\"Method cleanup(connection_file=True) is deprecated, use cleanup_resources(restart=False).\",\n",
      "Starting kernel: ['/usr/local/Caskroom/miniconda/base/envs/rtc/bin/python', '-m', 'ipykernel_launcher', '-f', '/private/var/folders/xn/05ktz3056kqd9n8frgd6236h0000gn/T/pytest-of-saul/pytest-268/test_stuff0/runtime/kernel-9bcd086c-092e-460c-8766-86f0064d8bc0.json']\n",
      "Connecting to: tcp://127.0.0.1:61137\n",
      "Kernel restarted: 9bcd086c-092e-460c-8766-86f0064d8bc0\n",
      "activity on 9bcd086c-092e-460c-8766-86f0064d8bc0: status (busy)\n"
     ]
    },
    {
     "data": {
      "text/plain": [
       "{'restartKernel': {'kernel': {'executionState': 'RESTARTING'}}}"
      ]
     },
     "execution_count": 5,
     "metadata": {},
     "output_type": "execute_result"
    },
    {
     "name": "stderr",
     "output_type": "stream",
     "text": [
      "activity on 9bcd086c-092e-460c-8766-86f0064d8bc0: shutdown_reply\n",
      "activity on 9bcd086c-092e-460c-8766-86f0064d8bc0: status (idle)\n",
      "activity on 9bcd086c-092e-460c-8766-86f0064d8bc0: status (starting)\n",
      "Connecting to: tcp://127.0.0.1:61134\n",
      "Connecting to: tcp://127.0.0.1:61133\n",
      "activity on 9bcd086c-092e-460c-8766-86f0064d8bc0: status (busy)\n",
      "activity on 9bcd086c-092e-460c-8766-86f0064d8bc0: status (idle)\n"
     ]
    }
   ],
   "source": [
    "await q(\"\"\"\n",
    "mutation($id: ID!) {\n",
    "    restartKernel(input: {id: $id}) {\n",
    "        kernel {\n",
    "            executionState\n",
    "        }\n",
    "    }\n",
    "}\n",
    "\"\"\", id=kernel_id)"
   ]
  },
  {
   "cell_type": "markdown",
   "metadata": {},
   "source": [
    "## Execute code"
   ]
  },
  {
   "cell_type": "markdown",
   "metadata": {},
   "source": [
    "Now we can trying executing some code. We will use this example, that prints `2` and returns `\"hello world\"`"
   ]
  },
  {
   "cell_type": "code",
   "execution_count": 11,
   "metadata": {
    "execution": {
     "iopub.execute_input": "2020-10-12T16:44:36.385351Z",
     "iopub.status.busy": "2020-10-12T16:44:36.385107Z",
     "iopub.status.idle": "2020-10-12T16:44:36.389893Z",
     "shell.execute_reply": "2020-10-12T16:44:36.389241Z",
     "shell.execute_reply.started": "2020-10-12T16:44:36.385324Z"
    }
   },
   "outputs": [
    {
     "name": "stdout",
     "output_type": "stream",
     "text": [
      "2\n"
     ]
    },
    {
     "data": {
      "text/plain": [
       "'hello world'"
      ]
     },
     "execution_count": 11,
     "metadata": {},
     "output_type": "execute_result"
    }
   ],
   "source": [
    "print(1 + 1)\n",
    "\"hello world\""
   ]
  },
  {
   "cell_type": "code",
   "execution_count": 12,
   "metadata": {
    "execution": {
     "iopub.execute_input": "2020-10-12T16:44:44.512054Z",
     "iopub.status.busy": "2020-10-12T16:44:44.511817Z",
     "iopub.status.idle": "2020-10-12T16:44:44.530422Z",
     "shell.execute_reply": "2020-10-12T16:44:44.529144Z",
     "shell.execute_reply.started": "2020-10-12T16:44:44.512028Z"
    }
   },
   "outputs": [
    {
     "data": {
      "text/plain": [
       "{'execute': {'execution': {'id': 'execution:3b62f546-0caa-11eb-81ab-faffc2200d70',\n",
       "   'code': \"print(1 + 1)\\n'hello world'\",\n",
       "   'kernel': {'id': 'kernel:1fb1ceec-61fb-49bf-8e3b-9d9e61c69b1f'},\n",
       "   'status': None,\n",
       "   'displays': [],\n",
       "   'inputRequest': None}}}"
      ]
     },
     "execution_count": 12,
     "metadata": {},
     "output_type": "execute_result"
    },
    {
     "name": "stderr",
     "output_type": "stream",
     "text": [
      "activity on 1fb1ceec-61fb-49bf-8e3b-9d9e61c69b1f: status (busy)\n",
      "activity on 1fb1ceec-61fb-49bf-8e3b-9d9e61c69b1f: execute_input\n",
      "activity on 1fb1ceec-61fb-49bf-8e3b-9d9e61c69b1f: stream\n",
      "activity on 1fb1ceec-61fb-49bf-8e3b-9d9e61c69b1f: execute_result\n",
      "Unhandled shell message: {'header': {'msg_id': '0beeea6e-2b591ba91befc857e84f59fe_8', 'msg_type': 'execute_reply', 'username': 'saul', 'session': '0beeea6e-2b591ba91befc857e84f59fe', 'date': datetime.datetime(2020, 10, 12, 16, 44, 44, 538464, tzinfo=tzutc()), 'version': '5.3'}, 'msg_id': '0beeea6e-2b591ba91befc857e84f59fe_8', 'msg_type': 'execute_reply', 'parent_header': {'msg_id': '25d63ab2-9692ef98479af5a85cc98415_1', 'msg_type': 'execute_request', 'username': 'saul', 'session': '25d63ab2-9692ef98479af5a85cc98415', 'date': datetime.datetime(2020, 10, 12, 16, 44, 44, 524761, tzinfo=tzutc()), 'version': '5.3'}, 'metadata': {'started': '2020-10-12T16:44:44.526333Z', 'dependencies_met': True, 'engine': 'f713d68e-66ce-42ab-ba38-bc5a153ffca5', 'status': 'ok'}, 'content': {'status': 'ok', 'execution_count': 1, 'user_expressions': {}, 'payload': []}, 'buffers': []}\n",
      "activity on 1fb1ceec-61fb-49bf-8e3b-9d9e61c69b1f: status (idle)\n"
     ]
    }
   ],
   "source": [
    "execution = await q(\"\"\"\n",
    "mutation($kernel_id: ID!, $code: String!) {\n",
    "    execute(input: {kernel: $kernel_id, code: $code}) {\n",
    "        execution {\n",
    "            id\n",
    "            code\n",
    "            kernel {\n",
    "                id\n",
    "            }\n",
    "            status {\n",
    "                __typename\n",
    "                ... on ExecutionStateOK {\n",
    "                    executionCount\n",
    "                    data\n",
    "                    metadata\n",
    "                }\n",
    "                ... on ExecutionStateError {\n",
    "                    traceback\n",
    "                    value\n",
    "                    executionCount\n",
    "                }\n",
    "            }\n",
    "            displays {\n",
    "                __typename\n",
    "                ... on DisplayStream {\n",
    "                    name\n",
    "                    text\n",
    "                }\n",
    "                ... on DisplayData {\n",
    "                    data\n",
    "                    metadata\n",
    "                    displayID\n",
    "                }\n",
    "            }\n",
    "            inputRequest {\n",
    "                prompt\n",
    "                password\n",
    "            }\n",
    "        }\n",
    "    }\n",
    "}\n",
    "\"\"\",kernel_id=kernel_id, code=\"print(1 + 1)\\n'hello world'\")\n",
    "execution"
   ]
  },
  {
   "cell_type": "markdown",
   "metadata": {},
   "source": [
    "Now we can query for the result of that execution:"
   ]
  },
  {
   "cell_type": "code",
   "execution_count": 13,
   "metadata": {
    "execution": {
     "iopub.execute_input": "2020-10-12T16:44:55.019725Z",
     "iopub.status.busy": "2020-10-12T16:44:55.019500Z",
     "iopub.status.idle": "2020-10-12T16:44:55.037789Z",
     "shell.execute_reply": "2020-10-12T16:44:55.036918Z",
     "shell.execute_reply.started": "2020-10-12T16:44:55.019700Z"
    }
   },
   "outputs": [
    {
     "data": {
      "text/plain": [
       "{'execution': {'id': 'execution:3b62f546-0caa-11eb-81ab-faffc2200d70',\n",
       "  'code': \"print(1 + 1)\\n'hello world'\",\n",
       "  'kernel': {'id': 'kernel:1fb1ceec-61fb-49bf-8e3b-9d9e61c69b1f'},\n",
       "  'status': {'__typename': 'ExecutionStateOK',\n",
       "   'executionCount': 1,\n",
       "   'data': '{\"text/plain\": \"\\'hello world\\'\"}',\n",
       "   'metadata': '{}'},\n",
       "  'displays': [{'__typename': 'DisplayStream',\n",
       "    'name': 'STDOUT',\n",
       "    'text': '2\\n'}],\n",
       "  'inputRequest': None}}"
      ]
     },
     "execution_count": 13,
     "metadata": {},
     "output_type": "execute_result"
    }
   ],
   "source": [
    "await q(\"\"\"\n",
    "query($id: ID!) {\n",
    "    execution(id: $id) {\n",
    "            id\n",
    "            code\n",
    "            kernel {\n",
    "                id\n",
    "            }\n",
    "            status {\n",
    "                __typename\n",
    "                ... on ExecutionStateOK {\n",
    "                    executionCount\n",
    "                    data\n",
    "                    metadata\n",
    "                }\n",
    "                ... on ExecutionStateError {\n",
    "                    traceback\n",
    "                    value\n",
    "                    executionCount\n",
    "                }\n",
    "            }\n",
    "            displays {\n",
    "                __typename\n",
    "                ... on DisplayStream {\n",
    "                    name\n",
    "                    text\n",
    "                }\n",
    "                ... on DisplayData {\n",
    "                    data\n",
    "                    metadata\n",
    "                    displayID\n",
    "                }\n",
    "            }\n",
    "            inputRequest {\n",
    "                prompt\n",
    "                password\n",
    "            }\n",
    "        }\n",
    "}\n",
    "\"\"\",id=execution['execute']['execution']['id'])"
   ]
  }
 ],
 "metadata": {
  "kernelspec": {
   "display_name": "Python 3",
   "language": "python",
   "name": "python3"
  },
  "language_info": {
   "codemirror_mode": {
    "name": "ipython",
    "version": 3
   },
   "file_extension": ".py",
   "mimetype": "text/x-python",
   "name": "python",
   "nbconvert_exporter": "python",
   "pygments_lexer": "ipython3",
   "version": "3.8.3"
  }
 },
 "nbformat": 4,
 "nbformat_minor": 4
}
